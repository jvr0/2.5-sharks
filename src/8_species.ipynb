{
 "cells": [
  {
   "cell_type": "code",
   "execution_count": 1,
   "id": "31b0dbf3",
   "metadata": {},
   "outputs": [],
   "source": [
    "import pandas as pd\n",
    "import numpy as np\n",
    "import geonamescache\n",
    "import pycountry\n",
    "import difflib\n",
    "import warnings\n",
    "import statistics as stat\n",
    "import re\n",
    "\n",
    "from countryinfo import CountryInfo\n",
    "warnings.filterwarnings('ignore')\n",
    "pd.set_option('display.max_columns', None)\n",
    "pd.set_option('display.max_rows',None)"
   ]
  },
  {
   "cell_type": "code",
   "execution_count": 2,
   "id": "e6f6d891",
   "metadata": {},
   "outputs": [],
   "source": [
    "df = pd.read_csv(\"../data/7_shark_time.csv\")"
   ]
  },
  {
   "cell_type": "markdown",
   "id": "3951ab32",
   "metadata": {},
   "source": [
    "# Limpieza columna \"Species\""
   ]
  },
  {
   "cell_type": "markdown",
   "id": "9cfabf3a",
   "metadata": {},
   "source": [
    "Para la limpieza de esta columna se buscará encontrar en las strings fragmentos de los 20 tipos de tiburones más comunes. En caso de no encontrarse se categorizará como Other Species o Unknown Shark. Previamente a la transformación de los datos utilizaremos los registros obtenidos para obtener el tamaño del tiburón, dato que almacenaremos en una nueva columna para su posterior utilización."
   ]
  },
  {
   "cell_type": "code",
   "execution_count": 3,
   "id": "142a896b",
   "metadata": {},
   "outputs": [],
   "source": [
    "df.Species = df.Species.apply(lambda x: str(x))\n",
    "df.Species = df.Species.str.lower()"
   ]
  },
  {
   "cell_type": "code",
   "execution_count": 4,
   "id": "ae056250",
   "metadata": {},
   "outputs": [],
   "source": [
    "def tamaño(x):\n",
    "    try:\n",
    "        numeros = re.findall(r'\\d+', x)\n",
    "        return [int(numero) for numero in numeros]\n",
    "    except:\n",
    "        return x"
   ]
  },
  {
   "cell_type": "code",
   "execution_count": 5,
   "id": "cd693922",
   "metadata": {},
   "outputs": [],
   "source": [
    "df.Size = df.Species.apply(tamaño)"
   ]
  },
  {
   "cell_type": "code",
   "execution_count": 6,
   "id": "0c8c115f",
   "metadata": {},
   "outputs": [],
   "source": [
    "def especies(x):\n",
    "    if \"whit\" in x or \"blue\" in x:\n",
    "        return \"White Shark\"\n",
    "    elif \"hamm\" in x:\n",
    "        return \"Hammerhead Shark\"\n",
    "    elif \"Tige\" in x:\n",
    "        return \"Tiger Shark\"\n",
    "    elif \"bull\" in x:\n",
    "        return \"Bull Shark\"\n",
    "    elif \"lemo\" in x:\n",
    "        return \"Lemon Shark\"\n",
    "    elif \"mako\" in x :\n",
    "        return \"Mako Shark\"\n",
    "    elif \"nurs\" in x:\n",
    "        return \"Nurse Shark\"\n",
    "    elif \"blac\" in x:\n",
    "        return \"Blacktip Shark\"\n",
    "    elif \"ocea\" in x:\n",
    "        return \"Oceanic Whitetip Shark\"\n",
    "    elif \"thre\" in x:\n",
    "        return \"Thresher shark\"\n",
    "    elif \"silk\" in x:\n",
    "        return \"Silky Shark\"\n",
    "    elif \"dusk\" in x:\n",
    "        return \"Dusky shark\"\n",
    "    elif \"gala\" in x:\n",
    "        return \"Galapagos Shark\"\n",
    "    elif \"gobl\" in x:\n",
    "        return \"Goblin Shark\"\n",
    "    elif \"ange\" in x:\n",
    "        return \"Angel Shark\"\n",
    "    elif \"gree\" in x:\n",
    "        return \"Greenland Shark\"\n",
    "    elif \"carp\" in x or \"wobbe\" in x:\n",
    "        return \"Carpet Shark\"\n",
    "    elif \"shark\" in x:\n",
    "        return \"Unknown Shark\"\n",
    "    elif \"unkn\" in x:\n",
    "        return \"Unknown Shark\"\n",
    "    elif \"inval\" in x:\n",
    "        return \"Unknown Shark\"\n",
    "    elif \"quest\" in x:\n",
    "        return \"Unknown Shark\"\n",
    "    elif \"unid\" in x:\n",
    "        return \"Unknown Shark\"\n",
    "    else:\n",
    "        return \"Other Species\""
   ]
  },
  {
   "cell_type": "code",
   "execution_count": 7,
   "id": "eda2ba6d",
   "metadata": {},
   "outputs": [],
   "source": [
    "df.Species = df.Species.apply(especies)"
   ]
  },
  {
   "cell_type": "markdown",
   "id": "72372f8f",
   "metadata": {},
   "source": [
    "# Creación columna \"Size\""
   ]
  },
  {
   "cell_type": "markdown",
   "id": "13ba5f18",
   "metadata": {},
   "source": [
    "Para la creación de la columna Size hemos separado los números encontrados en la columna Species y los introducimos a una lista como valores enteros. Continuación Se devuelve la media fila por fila, esto es debido a que se detecto que en un gran número de ocasiones los datos introducidos eran un rango de tamaño (Size 10 to 15m). A continuación se eliminan los valores atípicos, considerando a estos los resultados superiores a 100m. Por último se redondea el tamaño a tan solo dos dígitos para facilitar la lectura de los datos.\n",
    "\n",
    "Además se ha decidido no tratar los valores NaN de la columna Size debido a que la introducción de otro tipo de dato o el uso de la media o algún estadistico para el relleno podría alterar los valores."
   ]
  },
  {
   "cell_type": "code",
   "execution_count": 8,
   "id": "1b4f9438",
   "metadata": {},
   "outputs": [],
   "source": [
    "df.Size = df.Size.apply(lambda x: round(np.mean(x),2))\n",
    "df.Size = df.Size.apply(lambda x: np.nan if x > 100 else x)\n",
    "df.Size = df.Size.apply(lambda x: round(x,2))"
   ]
  },
  {
   "cell_type": "markdown",
   "id": "2186cb94",
   "metadata": {},
   "source": [
    "# Limpieza columna \"Source\""
   ]
  },
  {
   "cell_type": "markdown",
   "id": "63273727",
   "metadata": {},
   "source": [
    "Para la limpieza de la columna Source se ha decidido rellenar los valores nulos con la categoría \"Unknown\". Además, buscando legibilidad, y teniendo en cuenta que se trata de nombres, siglas e iniciales se ha decidido poner la primera letra de cada palabra en mayuscula."
   ]
  },
  {
   "cell_type": "code",
   "execution_count": 9,
   "id": "c88d738b",
   "metadata": {},
   "outputs": [],
   "source": [
    "df.Source = df.Source.apply(lambda x: str(x))\n",
    "df.Source = df.Source.str.lower()\n",
    "df.Source = df.Source.str.capitalize()\n",
    "df.Source.replace(np.NaN,\"Unknown\", inplace=True)"
   ]
  },
  {
   "cell_type": "code",
   "execution_count": 10,
   "id": "3ae8bd5a",
   "metadata": {},
   "outputs": [],
   "source": [
    "df.to_csv(\"../data/8_shark_species.csv\", index=False)"
   ]
  }
 ],
 "metadata": {
  "kernelspec": {
   "display_name": "Python 3 (ipykernel)",
   "language": "python",
   "name": "python3"
  },
  "language_info": {
   "codemirror_mode": {
    "name": "ipython",
    "version": 3
   },
   "file_extension": ".py",
   "mimetype": "text/x-python",
   "name": "python",
   "nbconvert_exporter": "python",
   "pygments_lexer": "ipython3",
   "version": "3.10.9"
  }
 },
 "nbformat": 4,
 "nbformat_minor": 5
}
