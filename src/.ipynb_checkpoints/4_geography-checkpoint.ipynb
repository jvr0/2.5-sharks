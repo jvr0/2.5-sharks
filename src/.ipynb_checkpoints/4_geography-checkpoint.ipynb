{
 "cells": [
  {
   "cell_type": "code",
   "execution_count": 1,
   "id": "599eab2e",
   "metadata": {},
   "outputs": [],
   "source": [
    "import pandas as pd\n",
    "import numpy as np\n",
    "import geonamescache\n",
    "import pycountry\n",
    "import difflib\n",
    "import warnings\n",
    "import re\n",
    "\n",
    "from countryinfo import CountryInfo\n",
    "warnings.filterwarnings('ignore')\n",
    "pd.set_option('display.max_columns', None)\n",
    "pd.set_option('display.max_rows',None)"
   ]
  },
  {
   "cell_type": "code",
   "execution_count": 2,
   "id": "eac47ded",
   "metadata": {},
   "outputs": [],
   "source": [
    "df = pd.read_csv(\"../data/3_shark_index_filas.csv\")"
   ]
  },
  {
   "cell_type": "code",
   "execution_count": 3,
   "id": "4254c79e",
   "metadata": {},
   "outputs": [
    {
     "data": {
      "text/html": [
       "<div>\n",
       "<style scoped>\n",
       "    .dataframe tbody tr th:only-of-type {\n",
       "        vertical-align: middle;\n",
       "    }\n",
       "\n",
       "    .dataframe tbody tr th {\n",
       "        vertical-align: top;\n",
       "    }\n",
       "\n",
       "    .dataframe thead th {\n",
       "        text-align: right;\n",
       "    }\n",
       "</style>\n",
       "<table border=\"1\" class=\"dataframe\">\n",
       "  <thead>\n",
       "    <tr style=\"text-align: right;\">\n",
       "      <th></th>\n",
       "      <th>Case Number</th>\n",
       "      <th>Type</th>\n",
       "      <th>Country</th>\n",
       "      <th>Area</th>\n",
       "      <th>Location</th>\n",
       "      <th>Activity</th>\n",
       "      <th>Name</th>\n",
       "      <th>Sex</th>\n",
       "      <th>Age</th>\n",
       "      <th>Injury</th>\n",
       "      <th>Fatal (Y/N)</th>\n",
       "      <th>Time</th>\n",
       "      <th>Species</th>\n",
       "      <th>Investigator or Source</th>\n",
       "      <th>pdf</th>\n",
       "      <th>href formula</th>\n",
       "      <th>href</th>\n",
       "      <th>original order</th>\n",
       "      <th>Final_year</th>\n",
       "      <th>Final_month</th>\n",
       "      <th>Final_day</th>\n",
       "    </tr>\n",
       "  </thead>\n",
       "  <tbody>\n",
       "    <tr>\n",
       "      <th>0</th>\n",
       "      <td>Attack-6286</td>\n",
       "      <td>Boating</td>\n",
       "      <td>USA</td>\n",
       "      <td>California</td>\n",
       "      <td>Oceanside, San Diego County</td>\n",
       "      <td>Paddling</td>\n",
       "      <td>Julie Wolfe</td>\n",
       "      <td>F</td>\n",
       "      <td>57</td>\n",
       "      <td>No injury to occupant, outrigger canoe and pad...</td>\n",
       "      <td>N</td>\n",
       "      <td>18h00</td>\n",
       "      <td>White shark</td>\n",
       "      <td>R. Collier, GSAF</td>\n",
       "      <td>2018.06.25-Wolfe.pdf</td>\n",
       "      <td>http://sharkattackfile.net/spreadsheets/pdf_di...</td>\n",
       "      <td>http://sharkattackfile.net/spreadsheets/pdf_di...</td>\n",
       "      <td>6303.0</td>\n",
       "      <td>2018</td>\n",
       "      <td>6</td>\n",
       "      <td>25</td>\n",
       "    </tr>\n",
       "    <tr>\n",
       "      <th>1</th>\n",
       "      <td>Attack-6285</td>\n",
       "      <td>Unprovoked</td>\n",
       "      <td>USA</td>\n",
       "      <td>Georgia</td>\n",
       "      <td>St. Simon Island, Glynn County</td>\n",
       "      <td>Standing</td>\n",
       "      <td>AdysonÂ McNeely</td>\n",
       "      <td>F</td>\n",
       "      <td>11</td>\n",
       "      <td>Minor injury to left thigh</td>\n",
       "      <td>N</td>\n",
       "      <td>14h00  -15h00</td>\n",
       "      <td>NaN</td>\n",
       "      <td>K.McMurray, TrackingSharks.com</td>\n",
       "      <td>2018.06.18-McNeely.pdf</td>\n",
       "      <td>http://sharkattackfile.net/spreadsheets/pdf_di...</td>\n",
       "      <td>http://sharkattackfile.net/spreadsheets/pdf_di...</td>\n",
       "      <td>6302.0</td>\n",
       "      <td>2018</td>\n",
       "      <td>6</td>\n",
       "      <td>18</td>\n",
       "    </tr>\n",
       "    <tr>\n",
       "      <th>2</th>\n",
       "      <td>Attack-6284</td>\n",
       "      <td>Invalid</td>\n",
       "      <td>USA</td>\n",
       "      <td>Hawaii</td>\n",
       "      <td>Habush, Oahu</td>\n",
       "      <td>Surfing</td>\n",
       "      <td>John Denges</td>\n",
       "      <td>M</td>\n",
       "      <td>48</td>\n",
       "      <td>Injury to left lower leg from surfboard skeg</td>\n",
       "      <td>N</td>\n",
       "      <td>07h45</td>\n",
       "      <td>NaN</td>\n",
       "      <td>K.McMurray, TrackingSharks.com</td>\n",
       "      <td>2018.06.09-Denges.pdf</td>\n",
       "      <td>http://sharkattackfile.net/spreadsheets/pdf_di...</td>\n",
       "      <td>http://sharkattackfile.net/spreadsheets/pdf_di...</td>\n",
       "      <td>6301.0</td>\n",
       "      <td>2018</td>\n",
       "      <td>6</td>\n",
       "      <td>9</td>\n",
       "    </tr>\n",
       "    <tr>\n",
       "      <th>3</th>\n",
       "      <td>Attack-6283</td>\n",
       "      <td>Unprovoked</td>\n",
       "      <td>AUSTRALIA</td>\n",
       "      <td>New South Wales</td>\n",
       "      <td>Arrawarra Headland</td>\n",
       "      <td>Surfing</td>\n",
       "      <td>male</td>\n",
       "      <td>M</td>\n",
       "      <td>NaN</td>\n",
       "      <td>Minor injury to lower leg</td>\n",
       "      <td>N</td>\n",
       "      <td>NaN</td>\n",
       "      <td>2 m shark</td>\n",
       "      <td>B. Myatt, GSAF</td>\n",
       "      <td>2018.06.08-Arrawarra.pdf</td>\n",
       "      <td>http://sharkattackfile.net/spreadsheets/pdf_di...</td>\n",
       "      <td>http://sharkattackfile.net/spreadsheets/pdf_di...</td>\n",
       "      <td>6300.0</td>\n",
       "      <td>2018</td>\n",
       "      <td>6</td>\n",
       "      <td>8</td>\n",
       "    </tr>\n",
       "    <tr>\n",
       "      <th>4</th>\n",
       "      <td>Attack-6282</td>\n",
       "      <td>Provoked</td>\n",
       "      <td>MEXICO</td>\n",
       "      <td>Colima</td>\n",
       "      <td>La Ticla</td>\n",
       "      <td>Free diving</td>\n",
       "      <td>Gustavo Ramos</td>\n",
       "      <td>M</td>\n",
       "      <td>NaN</td>\n",
       "      <td>Lacerations to leg &amp; hand shark PROVOKED INCIDENT</td>\n",
       "      <td>N</td>\n",
       "      <td>NaN</td>\n",
       "      <td>Tiger shark, 3m</td>\n",
       "      <td>A .Kipper</td>\n",
       "      <td>2018.06.04-Ramos.pdf</td>\n",
       "      <td>http://sharkattackfile.net/spreadsheets/pdf_di...</td>\n",
       "      <td>http://sharkattackfile.net/spreadsheets/pdf_di...</td>\n",
       "      <td>6299.0</td>\n",
       "      <td>2018</td>\n",
       "      <td>6</td>\n",
       "      <td>4</td>\n",
       "    </tr>\n",
       "  </tbody>\n",
       "</table>\n",
       "</div>"
      ],
      "text/plain": [
       "   Case Number        Type    Country             Area  \\\n",
       "0  Attack-6286     Boating        USA       California   \n",
       "1  Attack-6285  Unprovoked        USA          Georgia   \n",
       "2  Attack-6284     Invalid        USA           Hawaii   \n",
       "3  Attack-6283  Unprovoked  AUSTRALIA  New South Wales   \n",
       "4  Attack-6282    Provoked     MEXICO           Colima   \n",
       "\n",
       "                         Location     Activity              Name Sex   Age  \\\n",
       "0     Oceanside, San Diego County     Paddling       Julie Wolfe    F   57   \n",
       "1  St. Simon Island, Glynn County     Standing  AdysonÂ McNeely     F   11   \n",
       "2                    Habush, Oahu      Surfing       John Denges    M   48   \n",
       "3              Arrawarra Headland      Surfing              male    M  NaN   \n",
       "4                        La Ticla  Free diving    Gustavo Ramos     M  NaN   \n",
       "\n",
       "                                              Injury Fatal (Y/N)  \\\n",
       "0  No injury to occupant, outrigger canoe and pad...           N   \n",
       "1                         Minor injury to left thigh           N   \n",
       "2       Injury to left lower leg from surfboard skeg           N   \n",
       "3                          Minor injury to lower leg           N   \n",
       "4  Lacerations to leg & hand shark PROVOKED INCIDENT           N   \n",
       "\n",
       "            Time         Species           Investigator or Source  \\\n",
       "0          18h00      White shark                R. Collier, GSAF   \n",
       "1  14h00  -15h00              NaN  K.McMurray, TrackingSharks.com   \n",
       "2          07h45              NaN  K.McMurray, TrackingSharks.com   \n",
       "3            NaN        2 m shark                  B. Myatt, GSAF   \n",
       "4            NaN  Tiger shark, 3m                       A .Kipper   \n",
       "\n",
       "                        pdf  \\\n",
       "0      2018.06.25-Wolfe.pdf   \n",
       "1    2018.06.18-McNeely.pdf   \n",
       "2     2018.06.09-Denges.pdf   \n",
       "3  2018.06.08-Arrawarra.pdf   \n",
       "4      2018.06.04-Ramos.pdf   \n",
       "\n",
       "                                        href formula  \\\n",
       "0  http://sharkattackfile.net/spreadsheets/pdf_di...   \n",
       "1  http://sharkattackfile.net/spreadsheets/pdf_di...   \n",
       "2  http://sharkattackfile.net/spreadsheets/pdf_di...   \n",
       "3  http://sharkattackfile.net/spreadsheets/pdf_di...   \n",
       "4  http://sharkattackfile.net/spreadsheets/pdf_di...   \n",
       "\n",
       "                                                href  original order  \\\n",
       "0  http://sharkattackfile.net/spreadsheets/pdf_di...          6303.0   \n",
       "1  http://sharkattackfile.net/spreadsheets/pdf_di...          6302.0   \n",
       "2  http://sharkattackfile.net/spreadsheets/pdf_di...          6301.0   \n",
       "3  http://sharkattackfile.net/spreadsheets/pdf_di...          6300.0   \n",
       "4  http://sharkattackfile.net/spreadsheets/pdf_di...          6299.0   \n",
       "\n",
       "   Final_year  Final_month  Final_day  \n",
       "0        2018            6         25  \n",
       "1        2018            6         18  \n",
       "2        2018            6          9  \n",
       "3        2018            6          8  \n",
       "4        2018            6          4  "
      ]
     },
     "execution_count": 3,
     "metadata": {},
     "output_type": "execute_result"
    }
   ],
   "source": [
    "df.head()"
   ]
  },
  {
   "cell_type": "markdown",
   "id": "c450396c",
   "metadata": {},
   "source": [
    "Ahora que tenemos nuestro propio índice y la columna Type corrediga pasamos, en este notebook, a enfrentarnos a las columnas Country y Area. El objetivo es unificar lo máximo posible a través de la corrección de erratas y nulos. Además también se buscará crear una nueva columna para clasificar los ataques por continente\n",
    "\n",
    "Empezaremos con una exploración de los datos para luego pasar a la corrección de los mismos."
   ]
  },
  {
   "cell_type": "code",
   "execution_count": 4,
   "id": "3dadcd93",
   "metadata": {},
   "outputs": [],
   "source": [
    "def corregir_geo(nombre_pais):\n",
    "    try:\n",
    "        # Intenta encontrar una coincidencia exacta en pycountry\n",
    "        pais = pycountry.countries.get(name=nombre_pais)\n",
    "        if pais:\n",
    "            return pais.name  # Si se encuentra una coincidencia exacta, devuelve el nombre estándar\n",
    "        else:\n",
    "            # Si no se encuentra una coincidencia exacta, intenta encontrar una coincidencia cercana usando difflib\n",
    "            nombres_estandar = [country.name for country in pycountry.countries]\n",
    "            coincidencias_cercanas = difflib.get_close_matches(nombre_pais, nombres_estandar, n=1)\n",
    "            if coincidencias_cercanas:\n",
    "                return coincidencias_cercanas[0]  # Devuelve la coincidencia más cercana encontrada\n",
    "            else:\n",
    "                return nombre_pais  # Si no se encuentra ninguna coincidencia, devuelve el nombre original\n",
    "    except LookupError:\n",
    "        return nombre_pais  # Devuelve el nombre original en caso de errores"
   ]
  },
  {
   "cell_type": "markdown",
   "id": "81e24ae4",
   "metadata": {},
   "source": [
    "Vemos que varias filas que tienen nulos en su categoría Country también tienen en Area y Location. Decidimos eliminarlas debido a la falta de concreción geográfica del ataque."
   ]
  },
  {
   "cell_type": "code",
   "execution_count": 5,
   "id": "ea0583c4",
   "metadata": {},
   "outputs": [
    {
     "data": {
      "text/plain": [
       "213"
      ]
     },
     "execution_count": 5,
     "metadata": {},
     "output_type": "execute_result"
    }
   ],
   "source": [
    "len(df.Country.unique())"
   ]
  },
  {
   "cell_type": "code",
   "execution_count": 6,
   "id": "277014b0",
   "metadata": {},
   "outputs": [],
   "source": [
    "df.Country.replace(\"USA\",\"United States\", inplace=True)"
   ]
  },
  {
   "cell_type": "code",
   "execution_count": 7,
   "id": "b2cf8dd1",
   "metadata": {},
   "outputs": [],
   "source": [
    "df.Country = df.Country.apply(corregir_geo)"
   ]
  },
  {
   "cell_type": "code",
   "execution_count": 8,
   "id": "99d7873c",
   "metadata": {},
   "outputs": [],
   "source": [
    "df = df.dropna(subset=[\"Country\"])"
   ]
  },
  {
   "cell_type": "code",
   "execution_count": 9,
   "id": "7fc0e3ec",
   "metadata": {},
   "outputs": [
    {
     "data": {
      "text/plain": [
       "209"
      ]
     },
     "execution_count": 9,
     "metadata": {},
     "output_type": "execute_result"
    }
   ],
   "source": [
    "len(df.Country.unique())"
   ]
  },
  {
   "cell_type": "markdown",
   "id": "40e9939f",
   "metadata": {},
   "source": [
    "Ahora que se ha corregido la columna Country pasamos a hacer lo mismo para las columnas Area y Location."
   ]
  },
  {
   "cell_type": "code",
   "execution_count": 10,
   "id": "df9de22c",
   "metadata": {},
   "outputs": [
    {
     "name": "stdout",
     "output_type": "stream",
     "text": [
      "Before: 812\n",
      "After: 4090\n",
      "Before: 665\n",
      "After: 3760\n"
     ]
    }
   ],
   "source": [
    "print(\"Before:\" ,len(df.Area.unique()))\n",
    "print(\"After:\", len(df.Location.unique()))\n",
    "\n",
    "df.Area = df.Area.apply(corregir_geo)\n",
    "df.Location = df.Location.apply(corregir_geo)\n",
    "\n",
    "print(\"Before:\", len(df.Area.unique()))\n",
    "print(\"After:\", len(df.Location.unique()))"
   ]
  },
  {
   "cell_type": "markdown",
   "id": "fa9eac17",
   "metadata": {},
   "source": [
    "Vemos que la función tiene gran éxito corrigiendo las columnas Area y Location, unificando casi 150 y 330 categorias, respectivamente. A continuación veremos los nulos de estas columnas."
   ]
  },
  {
   "cell_type": "code",
   "execution_count": 11,
   "id": "01576cb7",
   "metadata": {},
   "outputs": [
    {
     "data": {
      "text/plain": [
       "416"
      ]
     },
     "execution_count": 11,
     "metadata": {},
     "output_type": "execute_result"
    }
   ],
   "source": [
    "len(df[df.Area.isnull()])"
   ]
  },
  {
   "cell_type": "code",
   "execution_count": 12,
   "id": "93679dad",
   "metadata": {},
   "outputs": [
    {
     "data": {
      "text/plain": [
       "497"
      ]
     },
     "execution_count": 12,
     "metadata": {},
     "output_type": "execute_result"
    }
   ],
   "source": [
    "len(df[df.Location.isnull()])"
   ]
  },
  {
   "cell_type": "markdown",
   "id": "13ace743",
   "metadata": {},
   "source": [
    "Vemos que hay demasiados registros cómo para analizarlos a mano. Trataremos de arreglar la columna Area a través de la localización. A continuación revisamos las columnas donde \"Area\" sea null y \"Location\" contenga un elemento."
   ]
  },
  {
   "cell_type": "code",
   "execution_count": 13,
   "id": "ff3f4ec6",
   "metadata": {},
   "outputs": [],
   "source": [
    "df_area = df[df.Area.isnull() & ~df.Location.isnull()]"
   ]
  },
  {
   "cell_type": "code",
   "execution_count": 14,
   "id": "10bbcb39",
   "metadata": {},
   "outputs": [
    {
     "data": {
      "text/plain": [
       "208"
      ]
     },
     "execution_count": 14,
     "metadata": {},
     "output_type": "execute_result"
    }
   ],
   "source": [
    "len(df_area.Location)"
   ]
  },
  {
   "cell_type": "markdown",
   "id": "6b7a880b",
   "metadata": {},
   "source": [
    "La longitud continua siendo demasiado grande como para poder determinar el Area a través del Location. Por tanto decidimos asignar el valor \"Unknown\" a los elementos nulos"
   ]
  },
  {
   "cell_type": "code",
   "execution_count": 15,
   "id": "ddda2084",
   "metadata": {},
   "outputs": [],
   "source": [
    "df['Location'].fillna(\"Unknown\", inplace=True)"
   ]
  },
  {
   "cell_type": "code",
   "execution_count": 23,
   "id": "5d29cfd5",
   "metadata": {},
   "outputs": [],
   "source": [
    "df['Area'].fillna(\"Unknown\", inplace=True)"
   ]
  },
  {
   "cell_type": "code",
   "execution_count": 27,
   "id": "91c07f68",
   "metadata": {},
   "outputs": [],
   "source": [
    "df.to_csv(\"../data/4_shark_geography.csv\",index=False)"
   ]
  }
 ],
 "metadata": {
  "kernelspec": {
   "display_name": "Python 3 (ipykernel)",
   "language": "python",
   "name": "python3"
  },
  "language_info": {
   "codemirror_mode": {
    "name": "ipython",
    "version": 3
   },
   "file_extension": ".py",
   "mimetype": "text/x-python",
   "name": "python",
   "nbconvert_exporter": "python",
   "pygments_lexer": "ipython3",
   "version": "3.10.9"
  }
 },
 "nbformat": 4,
 "nbformat_minor": 5
}
