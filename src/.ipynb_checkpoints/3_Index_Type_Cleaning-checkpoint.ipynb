{
 "cells": [
  {
   "cell_type": "code",
   "execution_count": 1,
   "id": "e646363d",
   "metadata": {},
   "outputs": [],
   "source": [
    "import pandas as pd\n",
    "pd.set_option('display.max_columns', None)\n",
    "#pd.set_option('display.max_rows',None)\n",
    "\n",
    "import numpy as np\n",
    "import re\n",
    "\n",
    "import warnings\n",
    "warnings.filterwarnings('ignore')"
   ]
  },
  {
   "cell_type": "code",
   "execution_count": 2,
   "id": "6f8d99cc",
   "metadata": {},
   "outputs": [],
   "source": [
    "df_clean = pd.read_csv(\"../data/1_shark_limpio.csv\", encoding='latin-1')"
   ]
  },
  {
   "cell_type": "code",
   "execution_count": 3,
   "id": "64499cb3",
   "metadata": {},
   "outputs": [],
   "source": [
    "df_date = pd.read_csv(\"../data/2_shark_fechas.csv\", encoding='latin-1', sep = \",\")"
   ]
  },
  {
   "cell_type": "markdown",
   "id": "90634bae",
   "metadata": {},
   "source": [
    "Concatenamos ambos df y eliminamos las columnas sobrantes ya que ahora tenemos la fecha desglosada en las columnas Final_XXXX.\n",
    "\n",
    "Además, eliminamos las filas en las que tras la esploración no se ha logrado determinar fecha"
   ]
  },
  {
   "cell_type": "code",
   "execution_count": 4,
   "id": "d9abe203",
   "metadata": {},
   "outputs": [],
   "source": [
    "df = pd.concat([df_clean, df_date], axis = 1)\n",
    "\n",
    "df = df.drop([\"Date\", \"Case Number.1\", \"Case Number.2\", \"Unnamed: 0\"], axis=1)"
   ]
  },
  {
   "cell_type": "markdown",
   "id": "2b518c46",
   "metadata": {},
   "source": [
    "Ahora que el case number ya no tiene sentido mantenerlo lo vamos a reconvertir en el índice para los ataques. Sin embargo antes vamos a eliminar filas que tras la exploración no se hayan podido corregir"
   ]
  },
  {
   "cell_type": "code",
   "execution_count": 5,
   "id": "592b66af",
   "metadata": {},
   "outputs": [
    {
     "data": {
      "text/plain": [
       "True"
      ]
     },
     "execution_count": 5,
     "metadata": {},
     "output_type": "execute_result"
    }
   ],
   "source": [
    "list(df[df['Final_year'] == 0]) == list(df[df['Final_month'] == 0])"
   ]
  },
  {
   "cell_type": "markdown",
   "id": "0a29f8e0",
   "metadata": {},
   "source": [
    "Vemos que las filas en las que el año final y el mes final que tienen valores de 0 son coincidentes. Por lo tanto decicimos eliminarlas debido a la falta de concreción de una fecha del ataque."
   ]
  },
  {
   "cell_type": "code",
   "execution_count": 6,
   "id": "7f6102b0",
   "metadata": {},
   "outputs": [],
   "source": [
    "indices = df[df['Final_year'] == 0].index.tolist()\n",
    "\n",
    "# Eliminar las filas con los índices especificados\n",
    "df = df.drop(indices)\n"
   ]
  },
  {
   "cell_type": "markdown",
   "id": "32575687",
   "metadata": {},
   "source": [
    "continuación pasamos la columna de case number para ser un índice propio"
   ]
  },
  {
   "cell_type": "code",
   "execution_count": 7,
   "id": "6db7e0b4",
   "metadata": {},
   "outputs": [],
   "source": [
    "df[\"Case Number\"] = [\"Attack-\" +str(i).zfill(4) for i in range(len(df), 0, -1)]"
   ]
  },
  {
   "cell_type": "markdown",
   "id": "c7382924",
   "metadata": {},
   "source": [
    "También eliminamos la columna Year ya que los datos no estaban correctamente presentados y la hemos sustituido por Final_year"
   ]
  },
  {
   "cell_type": "code",
   "execution_count": 8,
   "id": "f6c6718e",
   "metadata": {},
   "outputs": [],
   "source": [
    "df = df.drop([\"Year\"], axis=1)"
   ]
  },
  {
   "cell_type": "markdown",
   "id": "316f9181",
   "metadata": {},
   "source": [
    "Corregimos la siguiente columna. Type. Unificando los valores mal escritos o que significan lo mismo y ocupandonos de los posibles Nan"
   ]
  },
  {
   "cell_type": "code",
   "execution_count": 9,
   "id": "3e56c14f",
   "metadata": {},
   "outputs": [],
   "source": [
    "df = df.replace([\"Boat\", \"Boatomg\"], \"Boating\")"
   ]
  },
  {
   "cell_type": "markdown",
   "id": "ad995b96",
   "metadata": {},
   "source": [
    "Tras una primera corrección revisamos las dos filas categorizadas como questionable. Se decide eliminar dichas filas debido a su falta de interés para la base de datos. No se puede confirmar la presencia de un tiburon en el ataque y no se presentan mayores daños que desperfectos en una tabla de surf."
   ]
  },
  {
   "cell_type": "code",
   "execution_count": 10,
   "id": "e382c1a0",
   "metadata": {},
   "outputs": [
    {
     "data": {
      "text/html": [
       "<div>\n",
       "<style scoped>\n",
       "    .dataframe tbody tr th:only-of-type {\n",
       "        vertical-align: middle;\n",
       "    }\n",
       "\n",
       "    .dataframe tbody tr th {\n",
       "        vertical-align: top;\n",
       "    }\n",
       "\n",
       "    .dataframe thead th {\n",
       "        text-align: right;\n",
       "    }\n",
       "</style>\n",
       "<table border=\"1\" class=\"dataframe\">\n",
       "  <thead>\n",
       "    <tr style=\"text-align: right;\">\n",
       "      <th></th>\n",
       "      <th>Case Number</th>\n",
       "      <th>Type</th>\n",
       "      <th>Country</th>\n",
       "      <th>Area</th>\n",
       "      <th>Location</th>\n",
       "      <th>Activity</th>\n",
       "      <th>Name</th>\n",
       "      <th>Sex</th>\n",
       "      <th>Age</th>\n",
       "      <th>Injury</th>\n",
       "      <th>Fatal (Y/N)</th>\n",
       "      <th>Time</th>\n",
       "      <th>Species</th>\n",
       "      <th>Investigator or Source</th>\n",
       "      <th>pdf</th>\n",
       "      <th>href formula</th>\n",
       "      <th>href</th>\n",
       "      <th>original order</th>\n",
       "      <th>Final_year</th>\n",
       "      <th>Final_month</th>\n",
       "      <th>Final_day</th>\n",
       "    </tr>\n",
       "  </thead>\n",
       "  <tbody>\n",
       "    <tr>\n",
       "      <th>16</th>\n",
       "      <td>Attack-6270</td>\n",
       "      <td>Questionable</td>\n",
       "      <td>AUSTRALIA</td>\n",
       "      <td>New South Wales</td>\n",
       "      <td>Sharpes Beach, Ballina</td>\n",
       "      <td>Surfing</td>\n",
       "      <td>male</td>\n",
       "      <td>M</td>\n",
       "      <td>NaN</td>\n",
       "      <td>No injury, surfboard damaged</td>\n",
       "      <td>N</td>\n",
       "      <td>10h30</td>\n",
       "      <td>Shark involvement not confirmed</td>\n",
       "      <td>B. Myatt, GSAF</td>\n",
       "      <td>2018.05.09-SharpesBeach.pdf</td>\n",
       "      <td>http://sharkattackfile.net/spreadsheets/pdf_di...</td>\n",
       "      <td>http://sharkattackfile.net/spreadsheets/pdf_di...</td>\n",
       "      <td>6287.0</td>\n",
       "      <td>2018</td>\n",
       "      <td>5</td>\n",
       "      <td>9</td>\n",
       "    </tr>\n",
       "    <tr>\n",
       "      <th>20</th>\n",
       "      <td>Attack-6266</td>\n",
       "      <td>Questionable</td>\n",
       "      <td>AUSTRALIA</td>\n",
       "      <td>New South Wales</td>\n",
       "      <td>Lennox Head</td>\n",
       "      <td>Surfing</td>\n",
       "      <td>Matthew Lee</td>\n",
       "      <td>M</td>\n",
       "      <td>NaN</td>\n",
       "      <td>No injury</td>\n",
       "      <td>N</td>\n",
       "      <td>07h00</td>\n",
       "      <td>Questionable</td>\n",
       "      <td>B. Myatt, GSAF</td>\n",
       "      <td>2018.04.25.b-Lee.pdf</td>\n",
       "      <td>http://sharkattackfile.net/spreadsheets/pdf_di...</td>\n",
       "      <td>http://sharkattackfile.net/spreadsheets/pdf_di...</td>\n",
       "      <td>6283.0</td>\n",
       "      <td>2018</td>\n",
       "      <td>4</td>\n",
       "      <td>25</td>\n",
       "    </tr>\n",
       "  </tbody>\n",
       "</table>\n",
       "</div>"
      ],
      "text/plain": [
       "    Case Number          Type    Country             Area  \\\n",
       "16  Attack-6270  Questionable  AUSTRALIA  New South Wales   \n",
       "20  Attack-6266  Questionable  AUSTRALIA  New South Wales   \n",
       "\n",
       "                  Location Activity         Name Sex   Age  \\\n",
       "16  Sharpes Beach, Ballina  Surfing         male    M  NaN   \n",
       "20             Lennox Head  Surfing  Matthew Lee    M  NaN   \n",
       "\n",
       "                          Injury Fatal (Y/N)   Time  \\\n",
       "16  No injury, surfboard damaged           N  10h30   \n",
       "20                     No injury           N  07h00   \n",
       "\n",
       "                           Species  Investigator or Source  \\\n",
       "16  Shark involvement not confirmed         B. Myatt, GSAF   \n",
       "20                     Questionable         B. Myatt, GSAF   \n",
       "\n",
       "                            pdf  \\\n",
       "16  2018.05.09-SharpesBeach.pdf   \n",
       "20         2018.04.25.b-Lee.pdf   \n",
       "\n",
       "                                         href formula  \\\n",
       "16  http://sharkattackfile.net/spreadsheets/pdf_di...   \n",
       "20  http://sharkattackfile.net/spreadsheets/pdf_di...   \n",
       "\n",
       "                                                 href  original order  \\\n",
       "16  http://sharkattackfile.net/spreadsheets/pdf_di...          6287.0   \n",
       "20  http://sharkattackfile.net/spreadsheets/pdf_di...          6283.0   \n",
       "\n",
       "    Final_year  Final_month  Final_day  \n",
       "16        2018            5          9  \n",
       "20        2018            4         25  "
      ]
     },
     "execution_count": 10,
     "metadata": {},
     "output_type": "execute_result"
    }
   ],
   "source": [
    "df[df.Type == \"Questionable\"]"
   ]
  },
  {
   "cell_type": "code",
   "execution_count": 11,
   "id": "35126f42",
   "metadata": {},
   "outputs": [],
   "source": [
    "df = df.drop(df[df.Type == \"Questionable\"].index)"
   ]
  },
  {
   "cell_type": "markdown",
   "id": "5d212461",
   "metadata": {},
   "source": [
    "A continuación reseteamos el índice y nos ocuparemos de los valores nulos"
   ]
  },
  {
   "cell_type": "code",
   "execution_count": 12,
   "id": "26c2fd4f",
   "metadata": {},
   "outputs": [],
   "source": [
    "df = df.reset_index(drop=True)"
   ]
  },
  {
   "cell_type": "code",
   "execution_count": 13,
   "id": "72f2ee23",
   "metadata": {},
   "outputs": [
    {
     "data": {
      "text/html": [
       "<div>\n",
       "<style scoped>\n",
       "    .dataframe tbody tr th:only-of-type {\n",
       "        vertical-align: middle;\n",
       "    }\n",
       "\n",
       "    .dataframe tbody tr th {\n",
       "        vertical-align: top;\n",
       "    }\n",
       "\n",
       "    .dataframe thead th {\n",
       "        text-align: right;\n",
       "    }\n",
       "</style>\n",
       "<table border=\"1\" class=\"dataframe\">\n",
       "  <thead>\n",
       "    <tr style=\"text-align: right;\">\n",
       "      <th></th>\n",
       "      <th>Case Number</th>\n",
       "      <th>Type</th>\n",
       "      <th>Country</th>\n",
       "      <th>Area</th>\n",
       "      <th>Location</th>\n",
       "      <th>Activity</th>\n",
       "      <th>Name</th>\n",
       "      <th>Sex</th>\n",
       "      <th>Age</th>\n",
       "      <th>Injury</th>\n",
       "      <th>Fatal (Y/N)</th>\n",
       "      <th>Time</th>\n",
       "      <th>Species</th>\n",
       "      <th>Investigator or Source</th>\n",
       "      <th>pdf</th>\n",
       "      <th>href formula</th>\n",
       "      <th>href</th>\n",
       "      <th>original order</th>\n",
       "      <th>Final_year</th>\n",
       "      <th>Final_month</th>\n",
       "      <th>Final_day</th>\n",
       "    </tr>\n",
       "  </thead>\n",
       "  <tbody>\n",
       "    <tr>\n",
       "      <th>83</th>\n",
       "      <td>Attack-6201</td>\n",
       "      <td>NaN</td>\n",
       "      <td>SAMOA</td>\n",
       "      <td>Upolu Island</td>\n",
       "      <td>NofoaliÂi</td>\n",
       "      <td>Fishing</td>\n",
       "      <td>male</td>\n",
       "      <td>M</td>\n",
       "      <td>NaN</td>\n",
       "      <td>Injuries to hands and legs</td>\n",
       "      <td>N</td>\n",
       "      <td>Night</td>\n",
       "      <td>NaN</td>\n",
       "      <td>Samoa Observer, 9/16/2017</td>\n",
       "      <td>2017.09.15.a-Samoa.pdf</td>\n",
       "      <td>http://sharkattackfile.net/spreadsheets/pdf_di...</td>\n",
       "      <td>http://sharkattackfile.net/spreadsheets/pdf_di...</td>\n",
       "      <td>6218.0</td>\n",
       "      <td>2017</td>\n",
       "      <td>9</td>\n",
       "      <td>15</td>\n",
       "    </tr>\n",
       "    <tr>\n",
       "      <th>380</th>\n",
       "      <td>Attack-5904</td>\n",
       "      <td>NaN</td>\n",
       "      <td>AUSTRALIA</td>\n",
       "      <td>Victoria</td>\n",
       "      <td>Tyrendarra Beach</td>\n",
       "      <td>Surfing</td>\n",
       "      <td>male</td>\n",
       "      <td>M</td>\n",
       "      <td>40</td>\n",
       "      <td>Injury to hand</td>\n",
       "      <td>NaN</td>\n",
       "      <td>NaN</td>\n",
       "      <td>NaN</td>\n",
       "      <td>NaN</td>\n",
       "      <td>2015.07.27-Victoria.pdf</td>\n",
       "      <td>http://sharkattackfile.net/spreadsheets/pdf_di...</td>\n",
       "      <td>http://sharkattackfile.net/spreadsheets/pdf_di...</td>\n",
       "      <td>5921.0</td>\n",
       "      <td>2015</td>\n",
       "      <td>7</td>\n",
       "      <td>27</td>\n",
       "    </tr>\n",
       "    <tr>\n",
       "      <th>4865</th>\n",
       "      <td>Attack-1419</td>\n",
       "      <td>NaN</td>\n",
       "      <td>VIETNAM</td>\n",
       "      <td>NaN</td>\n",
       "      <td>Saigon</td>\n",
       "      <td>Wreck of a sampam</td>\n",
       "      <td>8 crew</td>\n",
       "      <td>M</td>\n",
       "      <td>NaN</td>\n",
       "      <td>FATAL</td>\n",
       "      <td>Y</td>\n",
       "      <td>NaN</td>\n",
       "      <td>NaN</td>\n",
       "      <td>Lansing State Journal, 9/11/1936</td>\n",
       "      <td>1936.09.11-Saigon.pdf</td>\n",
       "      <td>http://sharkattackfile.net/spreadsheets/pdf_di...</td>\n",
       "      <td>http://sharkattackfile.net/spreadsheets/pdf_di...</td>\n",
       "      <td>1436.0</td>\n",
       "      <td>1936</td>\n",
       "      <td>9</td>\n",
       "      <td>11</td>\n",
       "    </tr>\n",
       "    <tr>\n",
       "      <th>5703</th>\n",
       "      <td>Attack-0581</td>\n",
       "      <td>NaN</td>\n",
       "      <td>CEYLON</td>\n",
       "      <td>NaN</td>\n",
       "      <td>NaN</td>\n",
       "      <td>Diving</td>\n",
       "      <td>a pearl diver</td>\n",
       "      <td>M</td>\n",
       "      <td>NaN</td>\n",
       "      <td>FATAL</td>\n",
       "      <td>Y</td>\n",
       "      <td>NaN</td>\n",
       "      <td>NaN</td>\n",
       "      <td>The Guardian, 3/3/1890</td>\n",
       "      <td>1890.03.03.R-Ceylon.pdf</td>\n",
       "      <td>http://sharkattackfile.net/spreadsheets/pdf_di...</td>\n",
       "      <td>http://sharkattackfile.net/spreadsheets/pdf_di...</td>\n",
       "      <td>598.0</td>\n",
       "      <td>1890</td>\n",
       "      <td>3</td>\n",
       "      <td>3</td>\n",
       "    </tr>\n",
       "  </tbody>\n",
       "</table>\n",
       "</div>"
      ],
      "text/plain": [
       "      Case Number Type    Country           Area          Location  \\\n",
       "83    Attack-6201  NaN      SAMOA   Upolu Island        NofoaliÂi   \n",
       "380   Attack-5904  NaN  AUSTRALIA       Victoria  Tyrendarra Beach   \n",
       "4865  Attack-1419  NaN    VIETNAM            NaN            Saigon   \n",
       "5703  Attack-0581  NaN     CEYLON            NaN               NaN   \n",
       "\n",
       "               Activity           Name Sex   Age                      Injury  \\\n",
       "83              Fishing           male    M  NaN  Injuries to hands and legs   \n",
       "380             Surfing           male    M   40              Injury to hand   \n",
       "4865  Wreck of a sampam         8 crew    M  NaN                       FATAL   \n",
       "5703             Diving  a pearl diver    M  NaN                       FATAL   \n",
       "\n",
       "     Fatal (Y/N)   Time Species             Investigator or Source  \\\n",
       "83             N  Night      NaN         Samoa Observer, 9/16/2017   \n",
       "380          NaN    NaN      NaN                               NaN   \n",
       "4865           Y    NaN      NaN  Lansing State Journal, 9/11/1936   \n",
       "5703           Y    NaN      NaN            The Guardian, 3/3/1890   \n",
       "\n",
       "                          pdf  \\\n",
       "83     2017.09.15.a-Samoa.pdf   \n",
       "380   2015.07.27-Victoria.pdf   \n",
       "4865    1936.09.11-Saigon.pdf   \n",
       "5703  1890.03.03.R-Ceylon.pdf   \n",
       "\n",
       "                                           href formula  \\\n",
       "83    http://sharkattackfile.net/spreadsheets/pdf_di...   \n",
       "380   http://sharkattackfile.net/spreadsheets/pdf_di...   \n",
       "4865  http://sharkattackfile.net/spreadsheets/pdf_di...   \n",
       "5703  http://sharkattackfile.net/spreadsheets/pdf_di...   \n",
       "\n",
       "                                                   href  original order  \\\n",
       "83    http://sharkattackfile.net/spreadsheets/pdf_di...          6218.0   \n",
       "380   http://sharkattackfile.net/spreadsheets/pdf_di...          5921.0   \n",
       "4865  http://sharkattackfile.net/spreadsheets/pdf_di...          1436.0   \n",
       "5703  http://sharkattackfile.net/spreadsheets/pdf_di...           598.0   \n",
       "\n",
       "      Final_year  Final_month  Final_day  \n",
       "83          2017            9         15  \n",
       "380         2015            7         27  \n",
       "4865        1936            9         11  \n",
       "5703        1890            3          3  "
      ]
     },
     "execution_count": 13,
     "metadata": {},
     "output_type": "execute_result"
    }
   ],
   "source": [
    "df[df.Type.isnull()]"
   ]
  },
  {
   "cell_type": "markdown",
   "id": "26110d9f",
   "metadata": {},
   "source": [
    "Observamos que en la columna solamente hay 4 valores nulos. Sin embargo se decide eliminar las filas debido a la presencia de nulos en otras columnas clave como la especie,"
   ]
  },
  {
   "cell_type": "code",
   "execution_count": 14,
   "id": "41dc0aec",
   "metadata": {},
   "outputs": [
    {
     "data": {
      "text/html": [
       "<div>\n",
       "<style scoped>\n",
       "    .dataframe tbody tr th:only-of-type {\n",
       "        vertical-align: middle;\n",
       "    }\n",
       "\n",
       "    .dataframe tbody tr th {\n",
       "        vertical-align: top;\n",
       "    }\n",
       "\n",
       "    .dataframe thead th {\n",
       "        text-align: right;\n",
       "    }\n",
       "</style>\n",
       "<table border=\"1\" class=\"dataframe\">\n",
       "  <thead>\n",
       "    <tr style=\"text-align: right;\">\n",
       "      <th></th>\n",
       "      <th>Case Number</th>\n",
       "      <th>Type</th>\n",
       "      <th>Country</th>\n",
       "      <th>Area</th>\n",
       "      <th>Location</th>\n",
       "      <th>Activity</th>\n",
       "      <th>Name</th>\n",
       "      <th>Sex</th>\n",
       "      <th>Age</th>\n",
       "      <th>Injury</th>\n",
       "      <th>Fatal (Y/N)</th>\n",
       "      <th>Time</th>\n",
       "      <th>Species</th>\n",
       "      <th>Investigator or Source</th>\n",
       "      <th>pdf</th>\n",
       "      <th>href formula</th>\n",
       "      <th>href</th>\n",
       "      <th>original order</th>\n",
       "      <th>Final_year</th>\n",
       "      <th>Final_month</th>\n",
       "      <th>Final_day</th>\n",
       "    </tr>\n",
       "  </thead>\n",
       "  <tbody>\n",
       "  </tbody>\n",
       "</table>\n",
       "</div>"
      ],
      "text/plain": [
       "Empty DataFrame\n",
       "Columns: [Case Number, Type, Country, Area, Location, Activity, Name, Sex , Age, Injury, Fatal (Y/N), Time, Species , Investigator or Source, pdf, href formula, href, original order, Final_year, Final_month, Final_day]\n",
       "Index: []"
      ]
     },
     "execution_count": 14,
     "metadata": {},
     "output_type": "execute_result"
    }
   ],
   "source": [
    "df = df.dropna(subset=['Type'])\n",
    "df[df.Type.isnull()]"
   ]
  },
  {
   "cell_type": "code",
   "execution_count": 15,
   "id": "9a1fb635",
   "metadata": {},
   "outputs": [
    {
     "data": {
      "text/plain": [
       "Unprovoked      4583\n",
       "Provoked         574\n",
       "Invalid          547\n",
       "Boating          341\n",
       "Sea Disaster     235\n",
       "Name: Type, dtype: int64"
      ]
     },
     "execution_count": 15,
     "metadata": {},
     "output_type": "execute_result"
    }
   ],
   "source": [
    "df.Type.value_counts()"
   ]
  },
  {
   "cell_type": "code",
   "execution_count": 16,
   "id": "e9ba1ef5",
   "metadata": {},
   "outputs": [],
   "source": [
    "df.to_csv(\"../data/3_shark_index_filas.csv\",index=False)"
   ]
  }
 ],
 "metadata": {
  "kernelspec": {
   "display_name": "Python 3 (ipykernel)",
   "language": "python",
   "name": "python3"
  },
  "language_info": {
   "codemirror_mode": {
    "name": "ipython",
    "version": 3
   },
   "file_extension": ".py",
   "mimetype": "text/x-python",
   "name": "python",
   "nbconvert_exporter": "python",
   "pygments_lexer": "ipython3",
   "version": "3.10.9"
  }
 },
 "nbformat": 4,
 "nbformat_minor": 5
}
