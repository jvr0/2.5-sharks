{
 "cells": [
  {
   "cell_type": "markdown",
   "id": "063f290f",
   "metadata": {},
   "source": [
    "# SHARKNADO"
   ]
  },
  {
   "cell_type": "code",
   "execution_count": 1,
   "id": "0e105350",
   "metadata": {},
   "outputs": [],
   "source": [
    "import pandas as pd\n",
    "pd.set_option('display.max_columns', None)\n",
    "#pd.set_option('display.max_rows',None)\n",
    "\n",
    "import numpy as np\n",
    "import re\n",
    "\n",
    "import warnings\n",
    "warnings.filterwarnings('ignore')"
   ]
  },
  {
   "cell_type": "code",
   "execution_count": 2,
   "id": "319ab5e2",
   "metadata": {},
   "outputs": [],
   "source": [
    "df = pd.read_csv(\"../data/attacks.csv\", encoding='latin-1')"
   ]
  },
  {
   "cell_type": "markdown",
   "id": "bfdf098e",
   "metadata": {},
   "source": [
    "# 1. Limpieza de filas nulas (aproximación general)\n",
    "Lo primero comprobamos si existen filas donde todos los valores sean nulos."
   ]
  },
  {
   "cell_type": "code",
   "execution_count": 3,
   "id": "e20c3f60",
   "metadata": {},
   "outputs": [
    {
     "data": {
      "text/plain": [
       "17020"
      ]
     },
     "execution_count": 3,
     "metadata": {},
     "output_type": "execute_result"
    }
   ],
   "source": [
    "len(df[df.isna().all(axis=1)])"
   ]
  },
  {
   "cell_type": "code",
   "execution_count": 4,
   "id": "63c7e7d9",
   "metadata": {},
   "outputs": [],
   "source": [
    "df = df.dropna(how='all')"
   ]
  },
  {
   "cell_type": "markdown",
   "id": "1b743c16",
   "metadata": {},
   "source": [
    "Eliminamos las 17020 filas donde todos los valores son nulos a su falta de aportación para el Data Frame."
   ]
  },
  {
   "cell_type": "markdown",
   "id": "ed50952a",
   "metadata": {},
   "source": [
    "Ahora filtramos por filas que tengan menos de 1 o 2 valores. Observamos que son las mismas que aquellas que tienen menos de 10 valores por lo tanto decidimos eliminarlas debido a la falta de interés en las mismas. "
   ]
  },
  {
   "cell_type": "code",
   "execution_count": 5,
   "id": "b739699e",
   "metadata": {},
   "outputs": [
    {
     "data": {
      "text/plain": [
       "2401"
      ]
     },
     "execution_count": 5,
     "metadata": {},
     "output_type": "execute_result"
    }
   ],
   "source": [
    "result = df[df.count(axis=1) < 3]\n",
    "len(result)"
   ]
  },
  {
   "cell_type": "code",
   "execution_count": 6,
   "id": "0ed9610c",
   "metadata": {},
   "outputs": [
    {
     "data": {
      "text/plain": [
       "2401"
      ]
     },
     "execution_count": 6,
     "metadata": {},
     "output_type": "execute_result"
    }
   ],
   "source": [
    "result = df[df.count(axis=1) < 10]\n",
    "len(result)"
   ]
  },
  {
   "cell_type": "code",
   "execution_count": 7,
   "id": "16a9052d",
   "metadata": {},
   "outputs": [
    {
     "data": {
      "text/plain": [
       "True"
      ]
     },
     "execution_count": 7,
     "metadata": {},
     "output_type": "execute_result"
    }
   ],
   "source": [
    "(df[df.count(axis=1) < 3]).equals(df[df.count(axis=1) < 10])"
   ]
  },
  {
   "cell_type": "code",
   "execution_count": 8,
   "id": "14b4422e",
   "metadata": {},
   "outputs": [],
   "source": [
    "df = df[~(df.count(axis=1) < 10)]"
   ]
  },
  {
   "cell_type": "markdown",
   "id": "bcbecca8",
   "metadata": {},
   "source": [
    "Tras eliminar las columnas con menos de 10 valores efectivos nos queda un Data Frame de 6302 registros con los que podemos trabajar y que podrían tener interés. A continuación se procederá a abordar el data frame columna por columna, revisando los valores y tratando de despejar los nan."
   ]
  },
  {
   "cell_type": "markdown",
   "id": "a338b2f2",
   "metadata": {},
   "source": [
    "# 2. Limpieza de columnas nulas (aproximación general)"
   ]
  },
  {
   "cell_type": "code",
   "execution_count": 9,
   "id": "a0b52e3d",
   "metadata": {},
   "outputs": [
    {
     "data": {
      "text/html": [
       "<div>\n",
       "<style scoped>\n",
       "    .dataframe tbody tr th:only-of-type {\n",
       "        vertical-align: middle;\n",
       "    }\n",
       "\n",
       "    .dataframe tbody tr th {\n",
       "        vertical-align: top;\n",
       "    }\n",
       "\n",
       "    .dataframe thead th {\n",
       "        text-align: right;\n",
       "    }\n",
       "</style>\n",
       "<table border=\"1\" class=\"dataframe\">\n",
       "  <thead>\n",
       "    <tr style=\"text-align: right;\">\n",
       "      <th></th>\n",
       "      <th>Case Number</th>\n",
       "      <th>Date</th>\n",
       "      <th>Year</th>\n",
       "      <th>Type</th>\n",
       "      <th>Country</th>\n",
       "      <th>Area</th>\n",
       "      <th>Location</th>\n",
       "      <th>Activity</th>\n",
       "      <th>Name</th>\n",
       "      <th>Sex</th>\n",
       "      <th>Age</th>\n",
       "      <th>Injury</th>\n",
       "      <th>Fatal (Y/N)</th>\n",
       "      <th>Time</th>\n",
       "      <th>Species</th>\n",
       "      <th>Investigator or Source</th>\n",
       "      <th>pdf</th>\n",
       "      <th>href formula</th>\n",
       "      <th>href</th>\n",
       "      <th>Case Number.1</th>\n",
       "      <th>Case Number.2</th>\n",
       "      <th>original order</th>\n",
       "      <th>Unnamed: 22</th>\n",
       "      <th>Unnamed: 23</th>\n",
       "    </tr>\n",
       "  </thead>\n",
       "  <tbody>\n",
       "  </tbody>\n",
       "</table>\n",
       "</div>"
      ],
      "text/plain": [
       "Empty DataFrame\n",
       "Columns: [Case Number, Date, Year, Type, Country, Area, Location, Activity, Name, Sex , Age, Injury, Fatal (Y/N), Time, Species , Investigator or Source, pdf, href formula, href, Case Number.1, Case Number.2, original order, Unnamed: 22, Unnamed: 23]\n",
       "Index: []"
      ]
     },
     "execution_count": 9,
     "metadata": {},
     "output_type": "execute_result"
    }
   ],
   "source": [
    "df.head(0)"
   ]
  },
  {
   "cell_type": "markdown",
   "id": "07ba2f2e",
   "metadata": {},
   "source": [
    "Tras revisar las variables de las columnas empezamos la limpieza por las dos últimas columnas. A continuación comprobamos el contenido de las columnas"
   ]
  },
  {
   "cell_type": "code",
   "execution_count": 10,
   "id": "658963dd",
   "metadata": {},
   "outputs": [
    {
     "data": {
      "text/plain": [
       "array([nan, 'stopped here'], dtype=object)"
      ]
     },
     "execution_count": 10,
     "metadata": {},
     "output_type": "execute_result"
    }
   ],
   "source": [
    "df[\"Unnamed: 22\"].unique()"
   ]
  },
  {
   "cell_type": "code",
   "execution_count": 11,
   "id": "7484ec15",
   "metadata": {},
   "outputs": [
    {
     "data": {
      "text/plain": [
       "array([nan, 'Teramo', 'change filename'], dtype=object)"
      ]
     },
     "execution_count": 11,
     "metadata": {},
     "output_type": "execute_result"
    }
   ],
   "source": [
    "df[\"Unnamed: 23\"].unique()"
   ]
  },
  {
   "cell_type": "markdown",
   "id": "aff57c26",
   "metadata": {},
   "source": [
    "Vemos que los únicos datos que ofrecen estas columnas son: [nan, 'Teramo', 'stopped here', 'change filename']. Revisaremos las veces que se repiten los datos para comprobar su utilidad, aunque a primera vista parecen columnas inservibles."
   ]
  },
  {
   "cell_type": "code",
   "execution_count": 12,
   "id": "4c8efbcb",
   "metadata": {},
   "outputs": [
    {
     "data": {
      "text/plain": [
       "stopped here    1\n",
       "Name: Unnamed: 22, dtype: int64"
      ]
     },
     "execution_count": 12,
     "metadata": {},
     "output_type": "execute_result"
    }
   ],
   "source": [
    "df[\"Unnamed: 22\"].value_counts()"
   ]
  },
  {
   "cell_type": "code",
   "execution_count": 13,
   "id": "046132a8",
   "metadata": {},
   "outputs": [
    {
     "data": {
      "text/plain": [
       "Teramo             1\n",
       "change filename    1\n",
       "Name: Unnamed: 23, dtype: int64"
      ]
     },
     "execution_count": 13,
     "metadata": {},
     "output_type": "execute_result"
    }
   ],
   "source": [
    "df[\"Unnamed: 23\"].value_counts()"
   ]
  },
  {
   "cell_type": "code",
   "execution_count": 14,
   "id": "438601db",
   "metadata": {},
   "outputs": [],
   "source": [
    "df = df.drop([\"Unnamed: 22\", \"Unnamed: 23\"], axis = 1)"
   ]
  },
  {
   "cell_type": "code",
   "execution_count": 15,
   "id": "ad7fa7d6",
   "metadata": {},
   "outputs": [
    {
     "data": {
      "text/plain": [
       "(6302, 22)"
      ]
     },
     "execution_count": 15,
     "metadata": {},
     "output_type": "execute_result"
    }
   ],
   "source": [
    "df.shape"
   ]
  },
  {
   "cell_type": "code",
   "execution_count": 16,
   "id": "36530da4",
   "metadata": {},
   "outputs": [],
   "source": [
    "df.to_csv(\"../data/shark_limpio.csv\", sep=',', index=False)"
   ]
  },
  {
   "cell_type": "markdown",
   "id": "b71bb58e",
   "metadata": {},
   "source": [
    "Vemos que cada dato see ha presentado una sola vez. Por lo tanto declaramos que ambas columnas son inservibles y procedemos a su eliminación."
   ]
  },
  {
   "cell_type": "markdown",
   "id": "923cb7a8",
   "metadata": {},
   "source": [
    "vemos que solamente hay diferencias en 20 columnas. Creamos una función que aplicaremos a ambas columnas para igualar los registros y poder quedarnos con una única columna con el número de caso"
   ]
  },
  {
   "cell_type": "code",
   "execution_count": null,
   "id": "6569642f",
   "metadata": {},
   "outputs": [],
   "source": [
    "#indices = df[df['Final_year'] == 0].index.tolist()\n",
    "#df = df.drop(indices)"
   ]
  }
 ],
 "metadata": {
  "kernelspec": {
   "display_name": "Python 3 (ipykernel)",
   "language": "python",
   "name": "python3"
  },
  "language_info": {
   "codemirror_mode": {
    "name": "ipython",
    "version": 3
   },
   "file_extension": ".py",
   "mimetype": "text/x-python",
   "name": "python",
   "nbconvert_exporter": "python",
   "pygments_lexer": "ipython3",
   "version": "3.10.9"
  }
 },
 "nbformat": 4,
 "nbformat_minor": 5
}
