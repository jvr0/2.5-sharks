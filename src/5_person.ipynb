{
 "cells": [
  {
   "cell_type": "code",
   "execution_count": 1,
   "id": "00e9b03e",
   "metadata": {},
   "outputs": [],
   "source": [
    "import pandas as pd\n",
    "import numpy as np\n",
    "import geonamescache\n",
    "import pycountry\n",
    "import difflib\n",
    "import warnings\n",
    "import statistics as stat\n",
    "import re\n",
    "\n",
    "from countryinfo import CountryInfo\n",
    "warnings.filterwarnings('ignore')\n",
    "pd.set_option('display.max_columns', None)\n",
    "pd.set_option('display.max_rows',None)"
   ]
  },
  {
   "cell_type": "code",
   "execution_count": 2,
   "id": "15a7baad",
   "metadata": {},
   "outputs": [],
   "source": [
    "df = pd.read_csv(\"../data/4_shark_geography.csv\")"
   ]
  },
  {
   "cell_type": "code",
   "execution_count": 3,
   "id": "c1ef27cf",
   "metadata": {},
   "outputs": [
    {
     "data": {
      "text/html": [
       "<div>\n",
       "<style scoped>\n",
       "    .dataframe tbody tr th:only-of-type {\n",
       "        vertical-align: middle;\n",
       "    }\n",
       "\n",
       "    .dataframe tbody tr th {\n",
       "        vertical-align: top;\n",
       "    }\n",
       "\n",
       "    .dataframe thead th {\n",
       "        text-align: right;\n",
       "    }\n",
       "</style>\n",
       "<table border=\"1\" class=\"dataframe\">\n",
       "  <thead>\n",
       "    <tr style=\"text-align: right;\">\n",
       "      <th></th>\n",
       "      <th>Case Number</th>\n",
       "      <th>Type</th>\n",
       "      <th>Country</th>\n",
       "      <th>Area</th>\n",
       "      <th>Location</th>\n",
       "      <th>Activity</th>\n",
       "      <th>Name</th>\n",
       "      <th>Sex</th>\n",
       "      <th>Age</th>\n",
       "      <th>Injury</th>\n",
       "      <th>Fatal (Y/N)</th>\n",
       "      <th>Time</th>\n",
       "      <th>Species</th>\n",
       "      <th>Investigator or Source</th>\n",
       "      <th>pdf</th>\n",
       "      <th>href formula</th>\n",
       "      <th>href</th>\n",
       "      <th>original order</th>\n",
       "      <th>Final_year</th>\n",
       "      <th>Final_month</th>\n",
       "      <th>Final_day</th>\n",
       "    </tr>\n",
       "  </thead>\n",
       "  <tbody>\n",
       "    <tr>\n",
       "      <th>0</th>\n",
       "      <td>Attack-6286</td>\n",
       "      <td>Boating</td>\n",
       "      <td>United States</td>\n",
       "      <td>New Caledonia</td>\n",
       "      <td>Oceanside, San Diego County</td>\n",
       "      <td>Paddling</td>\n",
       "      <td>Julie Wolfe</td>\n",
       "      <td>F</td>\n",
       "      <td>57</td>\n",
       "      <td>No injury to occupant, outrigger canoe and pad...</td>\n",
       "      <td>N</td>\n",
       "      <td>18h00</td>\n",
       "      <td>White shark</td>\n",
       "      <td>R. Collier, GSAF</td>\n",
       "      <td>2018.06.25-Wolfe.pdf</td>\n",
       "      <td>http://sharkattackfile.net/spreadsheets/pdf_di...</td>\n",
       "      <td>http://sharkattackfile.net/spreadsheets/pdf_di...</td>\n",
       "      <td>6303.0</td>\n",
       "      <td>2018</td>\n",
       "      <td>6</td>\n",
       "      <td>25</td>\n",
       "    </tr>\n",
       "    <tr>\n",
       "      <th>1</th>\n",
       "      <td>Attack-6285</td>\n",
       "      <td>Unprovoked</td>\n",
       "      <td>United States</td>\n",
       "      <td>Georgia</td>\n",
       "      <td>St. Simon Island, Glynn County</td>\n",
       "      <td>Standing</td>\n",
       "      <td>AdysonÂ McNeely</td>\n",
       "      <td>F</td>\n",
       "      <td>11</td>\n",
       "      <td>Minor injury to left thigh</td>\n",
       "      <td>N</td>\n",
       "      <td>14h00  -15h00</td>\n",
       "      <td>NaN</td>\n",
       "      <td>K.McMurray, TrackingSharks.com</td>\n",
       "      <td>2018.06.18-McNeely.pdf</td>\n",
       "      <td>http://sharkattackfile.net/spreadsheets/pdf_di...</td>\n",
       "      <td>http://sharkattackfile.net/spreadsheets/pdf_di...</td>\n",
       "      <td>6302.0</td>\n",
       "      <td>2018</td>\n",
       "      <td>6</td>\n",
       "      <td>18</td>\n",
       "    </tr>\n",
       "    <tr>\n",
       "      <th>2</th>\n",
       "      <td>Attack-6284</td>\n",
       "      <td>Invalid</td>\n",
       "      <td>United States</td>\n",
       "      <td>Haiti</td>\n",
       "      <td>Habush, Oahu</td>\n",
       "      <td>Surfing</td>\n",
       "      <td>John Denges</td>\n",
       "      <td>M</td>\n",
       "      <td>48</td>\n",
       "      <td>Injury to left lower leg from surfboard skeg</td>\n",
       "      <td>N</td>\n",
       "      <td>07h45</td>\n",
       "      <td>NaN</td>\n",
       "      <td>K.McMurray, TrackingSharks.com</td>\n",
       "      <td>2018.06.09-Denges.pdf</td>\n",
       "      <td>http://sharkattackfile.net/spreadsheets/pdf_di...</td>\n",
       "      <td>http://sharkattackfile.net/spreadsheets/pdf_di...</td>\n",
       "      <td>6301.0</td>\n",
       "      <td>2018</td>\n",
       "      <td>6</td>\n",
       "      <td>9</td>\n",
       "    </tr>\n",
       "    <tr>\n",
       "      <th>3</th>\n",
       "      <td>Attack-6283</td>\n",
       "      <td>Unprovoked</td>\n",
       "      <td>Australia</td>\n",
       "      <td>New South Wales</td>\n",
       "      <td>Arrawarra Headland</td>\n",
       "      <td>Surfing</td>\n",
       "      <td>male</td>\n",
       "      <td>M</td>\n",
       "      <td>NaN</td>\n",
       "      <td>Minor injury to lower leg</td>\n",
       "      <td>N</td>\n",
       "      <td>NaN</td>\n",
       "      <td>2 m shark</td>\n",
       "      <td>B. Myatt, GSAF</td>\n",
       "      <td>2018.06.08-Arrawarra.pdf</td>\n",
       "      <td>http://sharkattackfile.net/spreadsheets/pdf_di...</td>\n",
       "      <td>http://sharkattackfile.net/spreadsheets/pdf_di...</td>\n",
       "      <td>6300.0</td>\n",
       "      <td>2018</td>\n",
       "      <td>6</td>\n",
       "      <td>8</td>\n",
       "    </tr>\n",
       "    <tr>\n",
       "      <th>4</th>\n",
       "      <td>Attack-6282</td>\n",
       "      <td>Provoked</td>\n",
       "      <td>Mexico</td>\n",
       "      <td>Colombia</td>\n",
       "      <td>La Ticla</td>\n",
       "      <td>Free diving</td>\n",
       "      <td>Gustavo Ramos</td>\n",
       "      <td>M</td>\n",
       "      <td>NaN</td>\n",
       "      <td>Lacerations to leg &amp; hand shark PROVOKED INCIDENT</td>\n",
       "      <td>N</td>\n",
       "      <td>NaN</td>\n",
       "      <td>Tiger shark, 3m</td>\n",
       "      <td>A .Kipper</td>\n",
       "      <td>2018.06.04-Ramos.pdf</td>\n",
       "      <td>http://sharkattackfile.net/spreadsheets/pdf_di...</td>\n",
       "      <td>http://sharkattackfile.net/spreadsheets/pdf_di...</td>\n",
       "      <td>6299.0</td>\n",
       "      <td>2018</td>\n",
       "      <td>6</td>\n",
       "      <td>4</td>\n",
       "    </tr>\n",
       "  </tbody>\n",
       "</table>\n",
       "</div>"
      ],
      "text/plain": [
       "   Case Number        Type        Country             Area  \\\n",
       "0  Attack-6286     Boating  United States    New Caledonia   \n",
       "1  Attack-6285  Unprovoked  United States          Georgia   \n",
       "2  Attack-6284     Invalid  United States            Haiti   \n",
       "3  Attack-6283  Unprovoked      Australia  New South Wales   \n",
       "4  Attack-6282    Provoked         Mexico         Colombia   \n",
       "\n",
       "                         Location     Activity              Name Sex   Age  \\\n",
       "0     Oceanside, San Diego County     Paddling       Julie Wolfe    F   57   \n",
       "1  St. Simon Island, Glynn County     Standing  AdysonÂ McNeely     F   11   \n",
       "2                    Habush, Oahu      Surfing       John Denges    M   48   \n",
       "3              Arrawarra Headland      Surfing              male    M  NaN   \n",
       "4                        La Ticla  Free diving    Gustavo Ramos     M  NaN   \n",
       "\n",
       "                                              Injury Fatal (Y/N)  \\\n",
       "0  No injury to occupant, outrigger canoe and pad...           N   \n",
       "1                         Minor injury to left thigh           N   \n",
       "2       Injury to left lower leg from surfboard skeg           N   \n",
       "3                          Minor injury to lower leg           N   \n",
       "4  Lacerations to leg & hand shark PROVOKED INCIDENT           N   \n",
       "\n",
       "            Time         Species           Investigator or Source  \\\n",
       "0          18h00      White shark                R. Collier, GSAF   \n",
       "1  14h00  -15h00              NaN  K.McMurray, TrackingSharks.com   \n",
       "2          07h45              NaN  K.McMurray, TrackingSharks.com   \n",
       "3            NaN        2 m shark                  B. Myatt, GSAF   \n",
       "4            NaN  Tiger shark, 3m                       A .Kipper   \n",
       "\n",
       "                        pdf  \\\n",
       "0      2018.06.25-Wolfe.pdf   \n",
       "1    2018.06.18-McNeely.pdf   \n",
       "2     2018.06.09-Denges.pdf   \n",
       "3  2018.06.08-Arrawarra.pdf   \n",
       "4      2018.06.04-Ramos.pdf   \n",
       "\n",
       "                                        href formula  \\\n",
       "0  http://sharkattackfile.net/spreadsheets/pdf_di...   \n",
       "1  http://sharkattackfile.net/spreadsheets/pdf_di...   \n",
       "2  http://sharkattackfile.net/spreadsheets/pdf_di...   \n",
       "3  http://sharkattackfile.net/spreadsheets/pdf_di...   \n",
       "4  http://sharkattackfile.net/spreadsheets/pdf_di...   \n",
       "\n",
       "                                                href  original order  \\\n",
       "0  http://sharkattackfile.net/spreadsheets/pdf_di...          6303.0   \n",
       "1  http://sharkattackfile.net/spreadsheets/pdf_di...          6302.0   \n",
       "2  http://sharkattackfile.net/spreadsheets/pdf_di...          6301.0   \n",
       "3  http://sharkattackfile.net/spreadsheets/pdf_di...          6300.0   \n",
       "4  http://sharkattackfile.net/spreadsheets/pdf_di...          6299.0   \n",
       "\n",
       "   Final_year  Final_month  Final_day  \n",
       "0        2018            6         25  \n",
       "1        2018            6         18  \n",
       "2        2018            6          9  \n",
       "3        2018            6          8  \n",
       "4        2018            6          4  "
      ]
     },
     "execution_count": 3,
     "metadata": {},
     "output_type": "execute_result"
    }
   ],
   "source": [
    "df.head()"
   ]
  },
  {
   "cell_type": "markdown",
   "id": "31728c6c",
   "metadata": {},
   "source": [
    "# Limpieza columna \"Activity\""
   ]
  },
  {
   "cell_type": "code",
   "execution_count": 4,
   "id": "070f322c",
   "metadata": {},
   "outputs": [],
   "source": [
    "def activity(x):\n",
    "    try:\n",
    "        x = x.lower()\n",
    "        if \"fis\" in x:\n",
    "            return \"Fishing\"\n",
    "        elif \"sta\" in x:\n",
    "            return \"Standing\"\n",
    "        elif \"pad\" in x:\n",
    "            return \"Padding\"\n",
    "        elif \"sur\" in x:\n",
    "            return \"Surfing\"\n",
    "        elif \"swi\" in x:\n",
    "            return \"Swimming\"\n",
    "        elif \"bat\" in x:\n",
    "            return \"Bathing\"\n",
    "        elif \"div\" in x:\n",
    "            return \"Diving\"\n",
    "        elif \"sno\" in x:\n",
    "            return \"Snorkel\"\n",
    "        elif \"boa\" in x:\n",
    "            return \"boarding\"\n",
    "        else:\n",
    "            return \"Other\"\n",
    "    except:\n",
    "        return \"Other\""
   ]
  },
  {
   "cell_type": "code",
   "execution_count": 5,
   "id": "901e02bb",
   "metadata": {},
   "outputs": [
    {
     "data": {
      "text/plain": [
       "535"
      ]
     },
     "execution_count": 5,
     "metadata": {},
     "output_type": "execute_result"
    }
   ],
   "source": [
    "len(df[df.Activity.isnull()])"
   ]
  },
  {
   "cell_type": "code",
   "execution_count": 6,
   "id": "d700c0c0",
   "metadata": {},
   "outputs": [],
   "source": [
    "df.Activity = df.Activity.apply(activity)"
   ]
  },
  {
   "cell_type": "code",
   "execution_count": 7,
   "id": "f218104f",
   "metadata": {},
   "outputs": [
    {
     "data": {
      "text/plain": [
       "Other       1411\n",
       "Surfing     1229\n",
       "Fishing     1223\n",
       "Swimming    1081\n",
       "Diving       503\n",
       "boarding     314\n",
       "Bathing      187\n",
       "Standing     154\n",
       "Snorkel       90\n",
       "Padding       40\n",
       "Name: Activity, dtype: int64"
      ]
     },
     "execution_count": 7,
     "metadata": {},
     "output_type": "execute_result"
    }
   ],
   "source": [
    "df.Activity.value_counts()"
   ]
  },
  {
   "cell_type": "code",
   "execution_count": 8,
   "id": "27074c29",
   "metadata": {},
   "outputs": [
    {
     "data": {
      "text/plain": [
       "0"
      ]
     },
     "execution_count": 8,
     "metadata": {},
     "output_type": "execute_result"
    }
   ],
   "source": [
    "len(df[df.Activity.isnull()])"
   ]
  },
  {
   "cell_type": "markdown",
   "id": "074c9410",
   "metadata": {},
   "source": [
    "Con la función utilizada simplificamos la columna en 10 categorías. Previamente a la aplicación de la función contamos con 500 nulos que al no tener información sobre la actividad introducimos en la categoría \"Otros\", la cual resulta ser la más amplia. De cerca le siguen las categorias de pesca y surf con valores muy similares."
   ]
  },
  {
   "cell_type": "markdown",
   "id": "eab37891",
   "metadata": {},
   "source": [
    "# limpieza columna \"Name\""
   ]
  },
  {
   "cell_type": "markdown",
   "id": "14b988ba",
   "metadata": {},
   "source": [
    "A continuación limpiarémos la columna name. Revisando a través de value_counts() detectamos varios valores como male or boy, los cuales nos sirven para verificar la columna de género. Se procede a la utilización y limpieza de estos valores. A continuación, al ser útiles en la columna de nombre los sustituirémos por Unknown, esto serña tras la verificación del género."
   ]
  },
  {
   "cell_type": "code",
   "execution_count": 9,
   "id": "9ecf78fd",
   "metadata": {},
   "outputs": [],
   "source": [
    "def name_1 (x):\n",
    "    try:\n",
    "        x = x.lower()\n",
    "        if \"men\" in x:\n",
    "            return \"M\"\n",
    "        if \"male\" in x:\n",
    "            return \"M\"\n",
    "        elif \"female\" in x:\n",
    "            return \"F\"\n",
    "        elif \"girl\" in x:\n",
    "            return \"F\"\n",
    "        elif \"woman\" in x:\n",
    "            return \"F\"\n",
    "        elif \"boy\" in x:\n",
    "            return \"M\"\n",
    "        elif \"man\" in x:\n",
    "            return \"M\"\n",
    "        else:\n",
    "            return x\n",
    "    except:\n",
    "        return x\n",
    "    \n",
    "def name_2(x):\n",
    "    if x == \"boat\":\n",
    "        return \"Unknown\"\n",
    "    elif x == \"child\":\n",
    "        return \"Unknown\"\n",
    "    elif x== \"anonymous\":\n",
    "        return \"Unknown\"\n",
    "    elif x == \"sailor\":\n",
    "        return \"Unknown\"\n",
    "    elif x == \"unidentified\":\n",
    "        return \"Unknown\"\n",
    "    elif x == \"a sailor\":\n",
    "        return \"Unknown\"\n",
    "    elif x == \"a native\":\n",
    "        return \"Unknown\"\n",
    "    elif x == \"a soldier\":\n",
    "        return \"Unknown\"\n",
    "    elif x == \"a pearl diver\":\n",
    "        return \"Unknown\"\n",
    "    else:\n",
    "        return x\n",
    "    \n",
    "def name_3(x):\n",
    "    if x == \"M\":\n",
    "        return \"Unknown male\"\n",
    "    elif x == \"F\":\n",
    "        return \"Unknown female\"\n",
    "    elif x == \"unknown\":\n",
    "        return \"Unknown\"\n",
    "    else:\n",
    "        return x"
   ]
  },
  {
   "cell_type": "code",
   "execution_count": 10,
   "id": "135cc1f9",
   "metadata": {},
   "outputs": [],
   "source": [
    "df.Name = df.Name.apply(name_1)\n",
    "df.Name = df.Name.apply(name_2)"
   ]
  },
  {
   "cell_type": "markdown",
   "id": "5b626622",
   "metadata": {},
   "source": [
    "Ahora que tenemos los nombres agrupados procedemos a utilizar las categorias creadas \"M\" y \"F\" para verificar y rellenar la columna género."
   ]
  },
  {
   "cell_type": "code",
   "execution_count": 11,
   "id": "82b5b1b7",
   "metadata": {},
   "outputs": [],
   "source": [
    "df[\"Sex\"] = df['Sex ']\n",
    "df[\"Species\"] = df['Species ']\n",
    "df.drop([\"Sex \", \"Species \"], axis=1, inplace=True)"
   ]
  },
  {
   "cell_type": "code",
   "execution_count": 12,
   "id": "215dd22f",
   "metadata": {},
   "outputs": [],
   "source": [
    "df.insert(7, 'Sex', df.pop(\"Sex\"))"
   ]
  },
  {
   "cell_type": "markdown",
   "id": "c4305d7d",
   "metadata": {},
   "source": [
    "Vemos 190 registros en los que Name \"M\"/\"F\" y Sex son diferentes. Vamos a priorizar el registro dado en la columna Sex, sin embargo tb vemos algunos valores NaN que rellenaremos con el valor obtenido de la exploración previa."
   ]
  },
  {
   "cell_type": "code",
   "execution_count": 13,
   "id": "41600951",
   "metadata": {},
   "outputs": [],
   "source": [
    "remplazo = df[(df['Name'] == \"M\") & (df['Sex'] != \"M\") & df['Sex'].isna()]\n",
    "df.loc[remplazo.index, 'Sex'] = remplazo['Name']"
   ]
  },
  {
   "cell_type": "markdown",
   "id": "ee66ab28",
   "metadata": {},
   "source": [
    "Para terminar con la columna de nombre vamos a substituir los valores creados M y F por \"Unknown\", a esta categoría también añadiremos los Nan"
   ]
  },
  {
   "cell_type": "code",
   "execution_count": 14,
   "id": "426177be",
   "metadata": {},
   "outputs": [],
   "source": [
    "df.Name = df.Name.apply(name_3)\n",
    "df['Name'] = df['Name'].fillna(\"Unknown\")"
   ]
  },
  {
   "cell_type": "markdown",
   "id": "f2a880a1",
   "metadata": {},
   "source": [
    "# Limpieza columna \"Sex\""
   ]
  },
  {
   "cell_type": "markdown",
   "id": "4833a4aa",
   "metadata": {},
   "source": [
    "Al ya haber concatenado la columna Sex con los registros obtenidos de la columna Name en este paso únicamente rellenaremos los NaN Sex con valores Unknown. También limpiaremos las categorias desconocidas."
   ]
  },
  {
   "cell_type": "code",
   "execution_count": 15,
   "id": "b457e012",
   "metadata": {},
   "outputs": [],
   "source": [
    "def genero(x):\n",
    "    if x == \"M \":\n",
    "        return \"M\"\n",
    "    elif x == \"lli\":\n",
    "        return \"M\"\n",
    "    elif x == \"N\":\n",
    "        return \"Unknown\"\n",
    "    elif x == \".\":\n",
    "        return \"Unknown\"\n",
    "    else:\n",
    "        return x"
   ]
  },
  {
   "cell_type": "code",
   "execution_count": 16,
   "id": "f965cb4a",
   "metadata": {},
   "outputs": [],
   "source": [
    "df.Sex = df.Sex.fillna(\"Unknown\")\n",
    "df.Sex = df.Sex.apply(genero)"
   ]
  },
  {
   "cell_type": "code",
   "execution_count": 17,
   "id": "13e8cb42",
   "metadata": {},
   "outputs": [
    {
     "data": {
      "text/plain": [
       "M          5084\n",
       "F           633\n",
       "Unknown     515\n",
       "Name: Sex, dtype: int64"
      ]
     },
     "execution_count": 17,
     "metadata": {},
     "output_type": "execute_result"
    }
   ],
   "source": [
    "df.Sex.value_counts()"
   ]
  },
  {
   "cell_type": "markdown",
   "id": "cf552cf4",
   "metadata": {},
   "source": [
    "# Limpieza columna \"Age\""
   ]
  },
  {
   "cell_type": "code",
   "execution_count": 18,
   "id": "12310648",
   "metadata": {},
   "outputs": [],
   "source": [
    "def age_teen(x):\n",
    "    try:\n",
    "        x = x.lower()\n",
    "        if \"teen\" in x:\n",
    "            return 18\n",
    "        else: return x\n",
    "    except:\n",
    "        return x"
   ]
  },
  {
   "cell_type": "code",
   "execution_count": 19,
   "id": "298262d1",
   "metadata": {},
   "outputs": [],
   "source": [
    "def age_several(x):\n",
    "    try:\n",
    "        nums = re.findall(r'\\b\\d{2}\\b', x)\n",
    "        nums = [int(num) for num in nums]\n",
    "        if len(nums) > 0:\n",
    "            return stat.mean(nums)\n",
    "        return x\n",
    "    except: return x"
   ]
  },
  {
   "cell_type": "code",
   "execution_count": 20,
   "id": "2874c947",
   "metadata": {},
   "outputs": [],
   "source": [
    "def age_letter(x):\n",
    "    try:\n",
    "        x = int(x)\n",
    "        # Use a regular expression to capture numeric parts\n",
    "        match = re.search(r'(\\d+(\\.\\d+)?)', x)\n",
    "\n",
    "        if match:\n",
    "            num = match.group(1)\n",
    "            num = re.sub(r'[^\\d.]', '', num)  # Remove non-numeric characters except for decimal points\n",
    "            if \".\" in num:\n",
    "                num = int(float(num))  # Convert to float and round to an integer\n",
    "            return num\n",
    "        else:\n",
    "            return x\n",
    "    except:\n",
    "        return x"
   ]
  },
  {
   "cell_type": "code",
   "execution_count": 40,
   "id": "dc83bea5",
   "metadata": {},
   "outputs": [],
   "source": [
    "def rellenar(x):\n",
    "    if type(x) == int:\n",
    "        return x\n",
    "    else:\n",
    "        return 0"
   ]
  },
  {
   "cell_type": "code",
   "execution_count": 22,
   "id": "2d110d8f",
   "metadata": {},
   "outputs": [],
   "source": [
    "df.Age = df.Age.apply(age_teen)\n",
    "df.Age = df.Age.apply(age_several)\n",
    "df.Age = df.Age.apply(age_letter)\n",
    "df.Age = df.Age.apply(rellenar)\n",
    "df['Age'].fillna(0, inplace=True)  # rellenamos los valores nulos con 0"
   ]
  },
  {
   "cell_type": "markdown",
   "id": "569215ac",
   "metadata": {},
   "source": [
    "Para limpiar la columna age se decide recuperar las edades de los strings y convertir la columna a tipo int. Tanto los valores nulos cómo los no deseados se convierten a 0. A la hora de realizar un análisis estadístico de la columna será necesario tener en cuenta que los valores 0 no deben influenciar los resultados."
   ]
  },
  {
   "cell_type": "markdown",
   "id": "fb8149af",
   "metadata": {},
   "source": [
    "# Limpieza columna \"Injury\""
   ]
  },
  {
   "cell_type": "markdown",
   "id": "b6307735",
   "metadata": {},
   "source": [
    "En un primer vistazo a los datos aportados por la columna \"Injury\" observamos un considerable número de registros catalogados como \"FATAL\". Decidimos utilizar estos para contrastar los datos aportados por la siguiente columna Fatal (Y/N)"
   ]
  },
  {
   "cell_type": "code",
   "execution_count": 23,
   "id": "faeb83a3",
   "metadata": {},
   "outputs": [
    {
     "data": {
      "text/plain": [
       "FATAL          779\n",
       "Survived        94\n",
       "Foot bitten     87\n",
       "No injury       81\n",
       "Leg bitten      72\n",
       "Name: Injury, dtype: int64"
      ]
     },
     "execution_count": 23,
     "metadata": {},
     "output_type": "execute_result"
    }
   ],
   "source": [
    "df.Injury.value_counts()[:5]"
   ]
  },
  {
   "cell_type": "code",
   "execution_count": 24,
   "id": "5b146382",
   "metadata": {},
   "outputs": [
    {
     "data": {
      "text/plain": [
       "760"
      ]
     },
     "execution_count": 24,
     "metadata": {},
     "output_type": "execute_result"
    }
   ],
   "source": [
    "len(df[(df['Injury'] == 'FATAL') & (df['Fatal (Y/N)'] == 'Y')])"
   ]
  },
  {
   "cell_type": "markdown",
   "id": "552371e5",
   "metadata": {},
   "source": [
    "Observamos que hay una diferencia entre el número de registros \"FATAL\" y el número de coincidencias con la columna fatal(Y/N). A continuación cambiaremos el nombre de la columna fatal para una mayor comodidad. También decidimos que allí donde se haya indicado que la herida fue fatal situaremos el mismo registro en la columna \"Deadly\""
   ]
  },
  {
   "cell_type": "code",
   "execution_count": 25,
   "id": "fba61268",
   "metadata": {},
   "outputs": [],
   "source": [
    "df[\"Deadly\"] = df['Fatal (Y/N)']\n",
    "df.drop(['Fatal (Y/N)'],axis=1,inplace=True)"
   ]
  },
  {
   "cell_type": "code",
   "execution_count": 26,
   "id": "1816bffe",
   "metadata": {},
   "outputs": [],
   "source": [
    "df.loc[df['Injury'] == 'FATAL', 'Deadly'] = 'Y'"
   ]
  },
  {
   "cell_type": "code",
   "execution_count": 27,
   "id": "18fba1f8",
   "metadata": {},
   "outputs": [
    {
     "data": {
      "text/plain": [
       "779"
      ]
     },
     "execution_count": 27,
     "metadata": {},
     "output_type": "execute_result"
    }
   ],
   "source": [
    "len(df[(df['Injury'] == 'FATAL') & (df['Deadly'] == 'Y')])"
   ]
  },
  {
   "cell_type": "markdown",
   "id": "9c0ade4e",
   "metadata": {},
   "source": [
    "Vemos que en la columna Injury tenemos 26 nulos. Categorizaremos estos registros como \"Unknown\". Para finar el tratamiento de estos datos aplicaremos formulas para corregir facilitar la lectura."
   ]
  },
  {
   "cell_type": "code",
   "execution_count": 28,
   "id": "a400a8b8",
   "metadata": {},
   "outputs": [
    {
     "data": {
      "text/plain": [
       "26"
      ]
     },
     "execution_count": 28,
     "metadata": {},
     "output_type": "execute_result"
    }
   ],
   "source": [
    "len(df[df.Injury.isnull()])"
   ]
  },
  {
   "cell_type": "code",
   "execution_count": 29,
   "id": "a35a5630",
   "metadata": {},
   "outputs": [],
   "source": [
    "df.Injury.fillna(\"Unknown\",inplace=True)"
   ]
  },
  {
   "cell_type": "code",
   "execution_count": 30,
   "id": "37b4f4c9",
   "metadata": {},
   "outputs": [],
   "source": [
    "df.Injury = df.Injury.apply(lambda s: s.lower())\n",
    "df.Injury = df.Injury.apply(lambda s: s.capitalize())"
   ]
  },
  {
   "cell_type": "markdown",
   "id": "b05b5324",
   "metadata": {},
   "source": [
    "# Limpieza columna \"Deadly\""
   ]
  },
  {
   "cell_type": "markdown",
   "id": "49aebe39",
   "metadata": {},
   "source": [
    "A continuación limpiamos los valores incongruentes de la columna Deadly categorizandolos como \"Unknown\"."
   ]
  },
  {
   "cell_type": "code",
   "execution_count": 31,
   "id": "af517944",
   "metadata": {},
   "outputs": [],
   "source": [
    "def dead(x):\n",
    "    try:\n",
    "        if x == \"N\":\n",
    "            return x\n",
    "        elif x == \"Y\":\n",
    "            return x\n",
    "        else:\n",
    "            return \"Unknown\"\n",
    "    except:\n",
    "        return x"
   ]
  },
  {
   "cell_type": "code",
   "execution_count": 32,
   "id": "fb18dee0",
   "metadata": {},
   "outputs": [],
   "source": [
    "df.Deadly = df.Deadly.apply(dead)"
   ]
  },
  {
   "cell_type": "code",
   "execution_count": 33,
   "id": "0953ec2e",
   "metadata": {},
   "outputs": [
    {
     "data": {
      "text/plain": [
       "N          4261\n",
       "Y          1377\n",
       "Unknown     594\n",
       "Name: Deadly, dtype: int64"
      ]
     },
     "execution_count": 33,
     "metadata": {},
     "output_type": "execute_result"
    }
   ],
   "source": [
    "df.Deadly.value_counts()"
   ]
  },
  {
   "cell_type": "markdown",
   "id": "a98e9d32",
   "metadata": {},
   "source": [
    "# Limpieza columna \"href\""
   ]
  },
  {
   "cell_type": "markdown",
   "id": "0989f9cc",
   "metadata": {},
   "source": [
    "Para la limpieza de las columnas \"href\" y \"href formula\" hemos comprobado que únicamente existe un valor nulo en la columna \"href formula\". También se ha comprobado que aunque aparentemente parezcan contener la misma información existen 60 registros donde estas columnas son diferentes. Debido a la inexistencia de nulos en la columna \"href\" se decide confiar en esta y eliminar \"href formula\", ya que no tendría sentido tener dos columnas quee tuvieran la misma información."
   ]
  },
  {
   "cell_type": "code",
   "execution_count": 34,
   "id": "aed31267",
   "metadata": {},
   "outputs": [
    {
     "data": {
      "text/plain": [
       "0"
      ]
     },
     "execution_count": 34,
     "metadata": {},
     "output_type": "execute_result"
    }
   ],
   "source": [
    "len(df[df.href.isnull()])"
   ]
  },
  {
   "cell_type": "code",
   "execution_count": 35,
   "id": "5d8f5f85",
   "metadata": {},
   "outputs": [
    {
     "data": {
      "text/plain": [
       "1"
      ]
     },
     "execution_count": 35,
     "metadata": {},
     "output_type": "execute_result"
    }
   ],
   "source": [
    "len(df[df[\"href formula\"].isnull()])"
   ]
  },
  {
   "cell_type": "code",
   "execution_count": 36,
   "id": "c55b3431",
   "metadata": {},
   "outputs": [
    {
     "data": {
      "text/plain": [
       "60"
      ]
     },
     "execution_count": 36,
     "metadata": {},
     "output_type": "execute_result"
    }
   ],
   "source": [
    "len(df[df.href != df[\"href formula\"]])"
   ]
  },
  {
   "cell_type": "code",
   "execution_count": 37,
   "id": "7f8d1fce",
   "metadata": {},
   "outputs": [],
   "source": [
    "df.drop([\"href formula\"],axis=1,inplace=True)"
   ]
  },
  {
   "cell_type": "code",
   "execution_count": 39,
   "id": "f8c2e69b",
   "metadata": {},
   "outputs": [],
   "source": [
    "df.to_csv(\"../data/5_shark_person.csv\",index=False)"
   ]
  }
 ],
 "metadata": {
  "kernelspec": {
   "display_name": "Python 3 (ipykernel)",
   "language": "python",
   "name": "python3"
  },
  "language_info": {
   "codemirror_mode": {
    "name": "ipython",
    "version": 3
   },
   "file_extension": ".py",
   "mimetype": "text/x-python",
   "name": "python",
   "nbconvert_exporter": "python",
   "pygments_lexer": "ipython3",
   "version": "3.10.9"
  }
 },
 "nbformat": 4,
 "nbformat_minor": 5
}
